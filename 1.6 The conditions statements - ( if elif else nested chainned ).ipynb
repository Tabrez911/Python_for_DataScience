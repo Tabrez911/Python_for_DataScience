{
 "cells": [
  {
   "cell_type": "code",
   "execution_count": 1,
   "metadata": {},
   "outputs": [],
   "source": [
    "import numpy as np"
   ]
  },
  {
   "cell_type": "code",
   "execution_count": 2,
   "metadata": {},
   "outputs": [],
   "source": [
    "from numpy.random import randn"
   ]
  },
  {
   "cell_type": "code",
   "execution_count": 3,
   "metadata": {},
   "outputs": [
    {
     "data": {
      "text/plain": [
       "-0.3298206805035227"
      ]
     },
     "execution_count": 3,
     "metadata": {},
     "output_type": "execute_result"
    }
   ],
   "source": [
    "randn()"
   ]
  },
  {
   "cell_type": "code",
   "execution_count": 4,
   "metadata": {},
   "outputs": [
    {
     "data": {
      "text/plain": [
       "-0.2690746265592127"
      ]
     },
     "execution_count": 4,
     "metadata": {},
     "output_type": "execute_result"
    }
   ],
   "source": [
    "randn()"
   ]
  },
  {
   "cell_type": "code",
   "execution_count": 5,
   "metadata": {},
   "outputs": [
    {
     "data": {
      "text/plain": [
       "1.8587743149205245"
      ]
     },
     "execution_count": 5,
     "metadata": {},
     "output_type": "execute_result"
    }
   ],
   "source": [
    "randn()"
   ]
  },
  {
   "cell_type": "markdown",
   "metadata": {},
   "source": [
    "---"
   ]
  },
  {
   "cell_type": "code",
   "execution_count": 6,
   "metadata": {},
   "outputs": [
    {
     "name": "stdout",
     "output_type": "stream",
     "text": [
      "-0.33935771946604487\n"
     ]
    },
    {
     "ename": "NameError",
     "evalue": "name 'answer' is not defined",
     "output_type": "error",
     "traceback": [
      "\u001b[1;31m---------------------------------------------------------------------------\u001b[0m",
      "\u001b[1;31mNameError\u001b[0m                                 Traceback (most recent call last)",
      "\u001b[1;32m<ipython-input-6-444def955fd2>\u001b[0m in \u001b[0;36m<module>\u001b[1;34m\u001b[0m\n\u001b[0;32m      3\u001b[0m     \u001b[0manswer\u001b[0m \u001b[1;33m=\u001b[0m \u001b[1;34m'Greater than 1'\u001b[0m\u001b[1;33m\u001b[0m\u001b[1;33m\u001b[0m\u001b[0m\n\u001b[0;32m      4\u001b[0m \u001b[0mprint\u001b[0m\u001b[1;33m(\u001b[0m\u001b[0mx\u001b[0m\u001b[1;33m)\u001b[0m\u001b[1;33m\u001b[0m\u001b[1;33m\u001b[0m\u001b[0m\n\u001b[1;32m----> 5\u001b[1;33m \u001b[0mprint\u001b[0m\u001b[1;33m(\u001b[0m\u001b[0manswer\u001b[0m\u001b[1;33m)\u001b[0m\u001b[1;33m\u001b[0m\u001b[1;33m\u001b[0m\u001b[0m\n\u001b[0m",
      "\u001b[1;31mNameError\u001b[0m: name 'answer' is not defined"
     ]
    }
   ],
   "source": [
    "#if statements\n",
    "\n",
    "x = randn()\n",
    "if x > 1:\n",
    "    answer = 'Greater than 1'\n",
    "print(x)\n",
    "print(answer)                                     "
   ]
  },
  {
   "cell_type": "code",
   "execution_count": 13,
   "metadata": {},
   "outputs": [
    {
     "name": "stdout",
     "output_type": "stream",
     "text": [
      "1.8479772397288374\n",
      "Greater than 1\n"
     ]
    }
   ],
   "source": [
    "x = randn()\n",
    "if x > 1:\n",
    "    answer = 'Greater than 1'\n",
    "print(x)\n",
    "print(answer)\n"
   ]
  },
  {
   "cell_type": "code",
   "execution_count": 14,
   "metadata": {},
   "outputs": [
    {
     "name": "stdout",
     "output_type": "stream",
     "text": [
      "-0.9629468018933697\n",
      "Greater than 1\n"
     ]
    }
   ],
   "source": [
    "x = randn()\n",
    "if x > 1:\n",
    "    answer = 'Greater than 1'\n",
    "print(x)\n",
    "print(answer)\n",
    "\n",
    "# here we can see here as the no is not greater than 1 than also it is printing coz answer is left from the previoys one\n",
    "# so  to get rid of it"
   ]
  },
  {
   "cell_type": "code",
   "execution_count": null,
   "metadata": {},
   "outputs": [],
   "source": [
    "# Note the difference"
   ]
  },
  {
   "cell_type": "code",
   "execution_count": 16,
   "metadata": {},
   "outputs": [
    {
     "name": "stdout",
     "output_type": "stream",
     "text": [
      "-0.5986936363084698\n",
      "None\n"
     ]
    }
   ],
   "source": [
    "answer = None\n",
    "x = randn()\n",
    "if x > 1:\n",
    "    answer = 'Greater than 1'\n",
    "print(x)\n",
    "print(answer)\n"
   ]
  },
  {
   "cell_type": "code",
   "execution_count": 46,
   "metadata": {},
   "outputs": [
    {
     "name": "stdout",
     "output_type": "stream",
     "text": [
      "1.8407360393716552\n",
      "Greater than 1\n"
     ]
    }
   ],
   "source": [
    "answer = None\n",
    "x = randn()\n",
    "if x > 1:\n",
    "    answer = 'Greater than 1'\n",
    "print(x)\n",
    "print(answer)\n"
   ]
  },
  {
   "cell_type": "markdown",
   "metadata": {},
   "source": [
    "---"
   ]
  },
  {
   "cell_type": "code",
   "execution_count": 49,
   "metadata": {},
   "outputs": [
    {
     "name": "stdout",
     "output_type": "stream",
     "text": [
      "0.3420497772569864\n",
      "Less than 1\n"
     ]
    }
   ],
   "source": [
    "#if and else statements\n",
    "\n",
    "answer = None\n",
    "x = randn()\n",
    "if x > 1:\n",
    "    answer = 'Greater than 1'\n",
    "else:\n",
    "    answer = 'Less than 1'\n",
    "print(x)\n",
    "print(answer)\n"
   ]
  },
  {
   "cell_type": "markdown",
   "metadata": {},
   "source": [
    "---"
   ]
  },
  {
   "cell_type": "code",
   "execution_count": 53,
   "metadata": {},
   "outputs": [
    {
     "name": "stdout",
     "output_type": "stream",
     "text": [
      "-2.363627725011299\n",
      "Less than -1\n"
     ]
    }
   ],
   "source": [
    "#Nested statements\n",
    "\n",
    "answer = None\n",
    "x = randn()\n",
    "if x > 1:\n",
    "    answer = 'Greater than 1'\n",
    "else:\n",
    "    if x >= -1:\n",
    "        answer = 'Between -1 and 1'\n",
    "    else:\n",
    "        answer = 'Less than -1'\n",
    "print(x)\n",
    "print(answer)\n"
   ]
  },
  {
   "cell_type": "code",
   "execution_count": 54,
   "metadata": {},
   "outputs": [
    {
     "name": "stdout",
     "output_type": "stream",
     "text": [
      "-0.6278384478376632\n",
      "Between -1 and 1\n"
     ]
    }
   ],
   "source": [
    "#Nested\n",
    "\n",
    "answer = None\n",
    "x = randn()\n",
    "if x > 1:\n",
    "    answer = 'Greater than 1'\n",
    "else:\n",
    "    if x >= -1:\n",
    "        answer = 'Between -1 and 1'\n",
    "    else:\n",
    "        answer = 'Less than -1'\n",
    "print(x)\n",
    "print(answer)\n"
   ]
  },
  {
   "cell_type": "code",
   "execution_count": 62,
   "metadata": {},
   "outputs": [
    {
     "name": "stdout",
     "output_type": "stream",
     "text": [
      "2.8328666553557333\n",
      "Greater than 1\n"
     ]
    }
   ],
   "source": [
    "#Nested (if else-if-else)\n",
    "\n",
    "answer = None\n",
    "x = randn()\n",
    "if x > 1:\n",
    "    answer = 'Greater than 1'\n",
    "else:\n",
    "    if x >= -1:\n",
    "        answer = 'Between -1 and 1'\n",
    "    else:\n",
    "        answer = 'Less than -1'\n",
    "print(x)\n",
    "print(answer)\n"
   ]
  },
  {
   "cell_type": "markdown",
   "metadata": {},
   "source": [
    "---"
   ]
  },
  {
   "cell_type": "code",
   "execution_count": 63,
   "metadata": {},
   "outputs": [
    {
     "name": "stdout",
     "output_type": "stream",
     "text": [
      "0.3110086441472887\n",
      "Between -1 and 1\n"
     ]
    }
   ],
   "source": [
    "# Chained statements (if elif else)\n",
    "\n",
    "answer = None\n",
    "x = randn()\n",
    "if x > 1:\n",
    "    answer = 'Greater than 1'\n",
    "elif x >= -1:\n",
    "    answer = 'Between -1 and 1'\n",
    "else:\n",
    "    answer = 'Less than -1'\n",
    "print(x)\n",
    "print(answer)\n",
    "\n",
    "#So this one looks cool and readable than above one"
   ]
  },
  {
   "cell_type": "code",
   "execution_count": 64,
   "metadata": {},
   "outputs": [
    {
     "name": "stdout",
     "output_type": "stream",
     "text": [
      "-1.2810463378789883\n",
      "Less than -1\n"
     ]
    }
   ],
   "source": [
    "# Chained statements \n",
    "\n",
    "answer = None\n",
    "x = randn()\n",
    "if x > 1:\n",
    "    answer = 'Greater than 1'\n",
    "elif x >= -1:\n",
    "    answer = 'Between -1 and 1'\n",
    "else:\n",
    "    answer = 'Less than -1'\n",
    "print(x)\n",
    "print(answer)"
   ]
  },
  {
   "cell_type": "code",
   "execution_count": 69,
   "metadata": {},
   "outputs": [
    {
     "name": "stdout",
     "output_type": "stream",
     "text": [
      "1.5219325161165829\n",
      "Greater than 1\n"
     ]
    }
   ],
   "source": [
    "# Chained statements \n",
    "\n",
    "answer = None\n",
    "x = randn()\n",
    "if x > 1:\n",
    "    answer = 'Greater than 1'\n",
    "elif x >= -1:\n",
    "    answer = 'Between -1 and 1'\n",
    "else:\n",
    "    answer = 'Less than -1'\n",
    "print(x)\n",
    "print(answer)"
   ]
  },
  {
   "cell_type": "code",
   "execution_count": 74,
   "metadata": {},
   "outputs": [
    {
     "name": "stdout",
     "output_type": "stream",
     "text": [
      "-0.7938802791841151\n",
      "Between -1 and 1\n"
     ]
    }
   ],
   "source": [
    "x = randn()\n",
    "print(x)\n",
    "\n",
    "if x > 1:\n",
    "    print('greater than 1')\n",
    "elif x >= -1:\n",
    "    print('Between -1 and 1')\n",
    "else:\n",
    "    print('Less than -1')\n"
   ]
  },
  {
   "cell_type": "raw",
   "metadata": {},
   "source": [
    "'HAPPY CODING'"
   ]
  },
  {
   "cell_type": "code",
   "execution_count": null,
   "metadata": {},
   "outputs": [],
   "source": []
  }
 ],
 "metadata": {
  "kernelspec": {
   "display_name": "Python 3",
   "language": "python",
   "name": "python3"
  },
  "language_info": {
   "codemirror_mode": {
    "name": "ipython",
    "version": 3
   },
   "file_extension": ".py",
   "mimetype": "text/x-python",
   "name": "python",
   "nbconvert_exporter": "python",
   "pygments_lexer": "ipython3",
   "version": "3.7.3"
  }
 },
 "nbformat": 4,
 "nbformat_minor": 2
}
